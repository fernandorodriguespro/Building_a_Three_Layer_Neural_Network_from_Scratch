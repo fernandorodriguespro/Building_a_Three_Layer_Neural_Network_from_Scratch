{
 "cells": [
  {
   "cell_type": "code",
   "execution_count": 38,
   "metadata": {},
   "outputs": [],
   "source": [
    "import numpy as np"
   ]
  },
  {
   "cell_type": "code",
   "execution_count": 39,
   "metadata": {},
   "outputs": [],
   "source": [
    "class Three_Layer_Neural_Network():\n",
    "    \n",
    "    def __init__(self):\n",
    "        self.synaptic_weight_0 = 2*np.random.random((3,4)) - 1\n",
    "        self.synaptic_weight_1 = 2*np.random.random((4,1)) - 1\n",
    "        \n",
    "    def __sigmoid(self, x):\n",
    "        return 1 / (1 + np.exp(-x))\n",
    "    \n",
    "    def __sigmoid_derivative(self, x):\n",
    "        return x * (1 - x)\n",
    "    \n",
    "    def train(self, training_set_inputs, training_set_outputs, number_of_training_iterations):\n",
    "\n",
    "        for iteration in range(number_of_training_iterations):\n",
    "            \n",
    "            # Forward propagate through layers 0, 1, and 2\n",
    "            layer0 = training_set_inputs\n",
    "            layer1 = self.__sigmoid(np.dot(layer0,self.synaptic_weight_0))\n",
    "            layer2 = self.__sigmoid(np.dot(layer1,self.synaptic_weight_1))\n",
    "            \n",
    "            #calculate error for layer 2\n",
    "            layer2_error = training_set_outputs - layer2\n",
    "            \n",
    "            #Use the error to compute the gradient\n",
    "            layer2_gradient = layer2_error * self.__sigmoid_derivative(layer2)\n",
    "            \n",
    "            #calculate error for layer 1\n",
    "            layer1_error = layer2_gradient.dot(self.synaptic_weight_1.T)\n",
    "    \n",
    "            #Use it to compute its gradient\n",
    "            layer1_gradient = layer1_error * self.__sigmoid_derivative(layer1)\n",
    "            \n",
    "            #update the weights using the gradients\n",
    "            self.synaptic_weight_1 += layer1.T.dot(layer2_gradient)\n",
    "            self.synaptic_weight_0 += layer0.T.dot(layer1_gradient)\n",
    "            \n",
    "    def predict(self, inputs):\n",
    "        # return self.__sigmoid(dot(inputs, self.synaptic_weights))\n",
    "        layer1 = self.__sigmoid(np.dot(inputs,self.synaptic_weight_0))\n",
    "        return self.__sigmoid(np.dot(layer1,self.synaptic_weight_1))\n",
    "    "
   ]
  },
  {
   "cell_type": "code",
   "execution_count": 40,
   "metadata": {},
   "outputs": [],
   "source": [
    "neural_network = Three_Layer_Neural_Network()\n",
    "training_set_inputs = np.array([[0, 0, 1], [1, 1, 1], [1, 0, 1], [0, 1, 1]])\n",
    "training_set_outputs = np.array([[0],[1], [1], [0]])\n",
    "neural_network.train(training_set_inputs, training_set_outputs, 10000)"
   ]
  },
  {
   "cell_type": "code",
   "execution_count": 45,
   "metadata": {},
   "outputs": [
    {
     "name": "stdout",
     "output_type": "stream",
     "text": [
      "Considering new situation [1, 0, 0] -> ?: \n",
      "[ 0.99819087]\n"
     ]
    }
   ],
   "source": [
    "print(\"Considering new situation [1, 0, 0] -> ?: \")\n",
    "print(neural_network.predict(np.array([1, 0, 0])))"
   ]
  },
  {
   "cell_type": "code",
   "execution_count": null,
   "metadata": {},
   "outputs": [],
   "source": []
  }
 ],
 "metadata": {
  "kernelspec": {
   "display_name": "Python 3",
   "language": "python",
   "name": "python3"
  },
  "language_info": {
   "codemirror_mode": {
    "name": "ipython",
    "version": 3
   },
   "file_extension": ".py",
   "mimetype": "text/x-python",
   "name": "python",
   "nbconvert_exporter": "python",
   "pygments_lexer": "ipython3",
   "version": "3.6.1"
  }
 },
 "nbformat": 4,
 "nbformat_minor": 2
}
